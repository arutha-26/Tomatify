{
 "cells": [
  {
   "cell_type": "code",
   "execution_count": 6,
   "metadata": {},
   "outputs": [
    {
     "name": "stdout",
     "output_type": "stream",
     "text": [
      "Prediction: [3.8495660e-04 1.3924184e-06 1.5936047e-01 3.3256412e-04 6.3109932e-05\n",
      " 9.3381902e-10 7.3372184e-06 3.6173631e-08 1.2854667e-05 1.7356697e-06]\n",
      "Class: 2\n",
      "Class Name: healthy\n"
     ]
    }
   ],
   "source": [
    "import os\n",
    "import numpy as np\n",
    "import tensorflow as tf\n",
    "from tensorflow import keras\n",
    "from PIL import Image\n",
    "\n",
    "# Load the trained model\n",
    "model = keras.models.load_model('model.h5')\n",
    "\n",
    "# Define the class labels\n",
    "class_labels = ['bacterial_spot', 'early_blight', 'healthy', 'late_blight', 'leaf_mold', 'mosaic_virus', 'septoria_leaf_spot', 'spider_mites', 'target_spot', 'yellow_leaf_curl']\n",
    "\n",
    "# Upload the image\n",
    "img_path = \"C:\\\\Users\\\\Putri Apriliani\\\\Documents\\\\BANGKIT 2023\\\\Tomatify\\\\ML\\\\Dataset\\\\test\\\\test_tomato_healthy\\\\image (206).JPG\"\n",
    "img = Image.open(img_path)\n",
    "\n",
    "# Preprocess the image\n",
    "img = img.resize((256, 256))\n",
    "img_array = np.array(img)\n",
    "img_array = img_array.astype('float32') / 255.0\n",
    "img_array = np.expand_dims(img_array, axis=0)\n",
    "\n",
    "# Make a prediction\n",
    "prediction = model.predict(img_array)[0]\n",
    "pred_class = np.argmax(prediction)\n",
    "pred_class_name = class_labels[pred_class]\n",
    "\n",
    "# Print the results\n",
    "print('Prediction:', prediction)\n",
    "print('Class:', pred_class)\n",
    "print('Class Name:', pred_class_name)\n"
   ]
  }
 ],
 "metadata": {
  "kernelspec": {
   "display_name": "tf210",
   "language": "python",
   "name": "python3"
  },
  "language_info": {
   "codemirror_mode": {
    "name": "ipython",
    "version": 3
   },
   "file_extension": ".py",
   "mimetype": "text/x-python",
   "name": "python",
   "nbconvert_exporter": "python",
   "pygments_lexer": "ipython3",
   "version": "3.7.16"
  },
  "orig_nbformat": 4
 },
 "nbformat": 4,
 "nbformat_minor": 2
}
