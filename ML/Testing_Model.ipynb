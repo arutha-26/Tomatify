{
 "cells": [
  {
   "cell_type": "code",
   "execution_count": 9,
   "metadata": {},
   "outputs": [
    {
     "name": "stdout",
     "output_type": "stream",
     "text": [
      "Prediction: [7.02862699e-11 5.73882880e-06 1.47636210e-05 2.79428514e-06\n",
      " 1.05852195e-07 2.35857751e-08 1.97821519e-05 3.76224518e-04\n",
      " 4.19450880e-05 2.14805809e-08]\n",
      "Class: 7\n",
      "Class Name: spider_mites\n"
     ]
    }
   ],
   "source": [
    "import os\n",
    "import numpy as np\n",
    "import tensorflow as tf\n",
    "from tensorflow import keras\n",
    "from PIL import Image\n",
    "\n",
    "# Load the trained model\n",
    "model = keras.models.load_model('model.h5')\n",
    "\n",
    "# Define the class labels\n",
    "class_labels = ['bacterial_spot', 'early_blight', 'healthy', 'late_blight', 'leaf_mold', 'mosaic_virus', 'septoria_leaf_spot', 'spider_mites', 'target_spot', 'yellow_leaf_curl']\n",
    "\n",
    "# Upload the image\n",
    "#Healthy\n",
    "#img_path = \"C:\\\\Users\\\\Putri Apriliani\\\\Documents\\\\BANGKIT 2023\\\\Tomatify\\\\ML\\\\Dataset\\\\test\\\\test_tomato_healthy\\\\image (206).JPG\"\n",
    "#spider_mites\n",
    "img_path = \"C:\\\\Users\\\\Putri Apriliani\\\\Documents\\\\BANGKIT 2023\\\\Tomatify\\\\ML\\\\Dataset\\\\test\\\\test_tomato_spider_mites\\\\image (486).JPG\"\n",
    "#bacterial spot\n",
    "#img_path = \"C:\\\\Users\\\\Putri Apriliani\\\\Documents\\\\BANGKIT 2023\\\\Tomatify\\\\ML\\\\Dataset\\\\test\\\\test_tomato_bacterial_spot\\\\image (25).JPG\"\n",
    "img = Image.open(img_path)\n",
    "\n",
    "# Preprocess the image\n",
    "img = img.resize((256, 256))\n",
    "img_array = np.array(img)\n",
    "img_array = img_array.astype('float32') / 255.0\n",
    "img_array = np.expand_dims(img_array, axis=0)\n",
    "\n",
    "# Make a prediction\n",
    "prediction = model.predict(img_array)[0]\n",
    "pred_class = np.argmax(prediction)\n",
    "pred_class_name = class_labels[pred_class]\n",
    "\n",
    "# Print the results\n",
    "print('Prediction:', prediction)\n",
    "print('Class:', pred_class)\n",
    "print('Class Name:', pred_class_name)\n"
   ]
  }
 ],
 "metadata": {
  "kernelspec": {
   "display_name": "tf210",
   "language": "python",
   "name": "python3"
  },
  "language_info": {
   "codemirror_mode": {
    "name": "ipython",
    "version": 3
   },
   "file_extension": ".py",
   "mimetype": "text/x-python",
   "name": "python",
   "nbconvert_exporter": "python",
   "pygments_lexer": "ipython3",
   "version": "3.7.16"
  },
  "orig_nbformat": 4
 },
 "nbformat": 4,
 "nbformat_minor": 2
}
